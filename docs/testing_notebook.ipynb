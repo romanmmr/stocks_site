{
 "cells": [
  {
   "cell_type": "raw",
   "id": "3d9b29bc-73ca-4f90-ac9e-6099a7b7eb96",
   "metadata": {},
   "source": [
    "---\n",
    "title: \"Notebook - test\"\n",
    "format: \n",
    "  html:\n",
    "    code-fold: true\n",
    "jupyter: python3\n",
    "---"
   ]
  },
  {
   "cell_type": "code",
   "execution_count": 6,
   "id": "931c85e1-bd18-45aa-b81c-a432a0a680d1",
   "metadata": {},
   "outputs": [
    {
     "data": {
      "text/markdown": [
       "| Date                      |    Open |    High |     Low |   Close |    Volume |   Dividends |   Stock Splits |\n",
       "|:--------------------------|--------:|--------:|--------:|--------:|----------:|------------:|---------------:|\n",
       "| 2024-05-09 00:00:00+02:00 | 11112.7 | 11121.9 | 11004.9 | 11050.1 | 212325300 |           0 |              0 |\n",
       "| 2024-05-10 00:00:00+02:00 | 11045.9 | 11137.7 | 11045.1 | 11105.5 | 155650400 |           0 |              0 |\n",
       "| 2024-05-13 00:00:00+02:00 | 11104.2 | 11152   | 11073.9 | 11152   | 106337500 |           0 |              0 |\n",
       "| 2024-05-14 00:00:00+02:00 | 11180.5 | 11246.3 | 11138.4 | 11239.3 | 137103300 |           0 |              0 |\n",
       "| 2024-05-15 00:00:00+02:00 | 11260.9 | 11377   | 11260.3 | 11362.8 | 159465788 |           0 |              0 |"
      ],
      "text/plain": [
       "<IPython.core.display.Markdown object>"
      ]
     },
     "execution_count": 6,
     "metadata": {},
     "output_type": "execute_result"
    }
   ],
   "source": [
    "import pandas as pd\n",
    "from IPython.display import Markdown\n",
    "test_csv = pd.read_csv(\"test_csv.csv\")\n",
    "test_csv = test_csv.tail()\n",
    "Markdown(test_csv.to_markdown(index=False))"
   ]
  },
  {
   "cell_type": "code",
   "execution_count": 4,
   "id": "939c0515-9e15-416a-a0b4-032b21d44ee4",
   "metadata": {},
   "outputs": [
    {
     "data": {
      "text/html": [
       "<div>\n",
       "<style scoped>\n",
       "    .dataframe tbody tr th:only-of-type {\n",
       "        vertical-align: middle;\n",
       "    }\n",
       "\n",
       "    .dataframe tbody tr th {\n",
       "        vertical-align: top;\n",
       "    }\n",
       "\n",
       "    .dataframe thead th {\n",
       "        text-align: right;\n",
       "    }\n",
       "</style>\n",
       "<table border=\"1\" class=\"dataframe\">\n",
       "  <thead>\n",
       "    <tr style=\"text-align: right;\">\n",
       "      <th></th>\n",
       "      <th>a</th>\n",
       "      <th>b</th>\n",
       "      <th>c</th>\n",
       "    </tr>\n",
       "  </thead>\n",
       "  <tbody>\n",
       "    <tr>\n",
       "      <th>0</th>\n",
       "      <td>1</td>\n",
       "      <td>2</td>\n",
       "      <td>3</td>\n",
       "    </tr>\n",
       "    <tr>\n",
       "      <th>1</th>\n",
       "      <td>4</td>\n",
       "      <td>5</td>\n",
       "      <td>6</td>\n",
       "    </tr>\n",
       "    <tr>\n",
       "      <th>2</th>\n",
       "      <td>7</td>\n",
       "      <td>8</td>\n",
       "      <td>9</td>\n",
       "    </tr>\n",
       "  </tbody>\n",
       "</table>\n",
       "</div>"
      ],
      "text/plain": [
       "   a  b  c\n",
       "0  1  2  3\n",
       "1  4  5  6\n",
       "2  7  8  9"
      ]
     },
     "execution_count": 4,
     "metadata": {},
     "output_type": "execute_result"
    }
   ],
   "source": [
    "df=pd.DataFrame([[1,2,3],[4,5,6],[7,8,9]], columns=['a', 'b', 'c'])\n",
    "df"
   ]
  },
  {
   "cell_type": "code",
   "execution_count": null,
   "id": "b2ec6260-52a8-4f39-9cdb-b9fcbe44ea53",
   "metadata": {},
   "outputs": [],
   "source": []
  }
 ],
 "metadata": {
  "kernelspec": {
   "display_name": "Python 3 (ipykernel)",
   "language": "python",
   "name": "python3"
  },
  "language_info": {
   "codemirror_mode": {
    "name": "ipython",
    "version": 3
   },
   "file_extension": ".py",
   "mimetype": "text/x-python",
   "name": "python",
   "nbconvert_exporter": "python",
   "pygments_lexer": "ipython3",
   "version": "3.9.13"
  }
 },
 "nbformat": 4,
 "nbformat_minor": 5
}
