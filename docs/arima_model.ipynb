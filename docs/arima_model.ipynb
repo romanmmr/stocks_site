{
 "cells": [
  {
   "cell_type": "raw",
   "id": "3d9b29bc-73ca-4f90-ac9e-6099a7b7eb96",
   "metadata": {
    "papermill": {
     "duration": 0.008615,
     "end_time": "2025-01-17T21:55:49.624035",
     "exception": false,
     "start_time": "2025-01-17T21:55:49.615420",
     "status": "completed"
    },
    "tags": []
   },
   "source": [
    "---\n",
    "title: \"Arima Model\"\n",
    "format: \n",
    "  html:\n",
    "    code-fold: true\n",
    "jupyter: python3\n",
    "---"
   ]
  },
  {
   "cell_type": "code",
   "execution_count": 1,
   "id": "931c85e1-bd18-45aa-b81c-a432a0a680d1",
   "metadata": {
    "execution": {
     "iopub.execute_input": "2025-01-17T21:55:49.645278Z",
     "iopub.status.busy": "2025-01-17T21:55:49.643806Z",
     "iopub.status.idle": "2025-01-17T21:55:57.477364Z",
     "shell.execute_reply": "2025-01-17T21:55:57.475853Z"
    },
    "papermill": {
     "duration": 7.852075,
     "end_time": "2025-01-17T21:55:57.483631",
     "exception": false,
     "start_time": "2025-01-17T21:55:49.631556",
     "status": "completed"
    },
    "tags": []
   },
   "outputs": [],
   "source": [
    "import pandas as pd\n",
    "import matplotlib.pyplot as plt\n",
    "from settings.display_data import plot_fit_and_forecast, table_horizontal, plot_sample_data"
   ]
  },
  {
   "cell_type": "markdown",
   "id": "5d15d346-e189-4640-af65-bce397968026",
   "metadata": {
    "papermill": {
     "duration": 0.00426,
     "end_time": "2025-01-17T21:55:57.495363",
     "exception": false,
     "start_time": "2025-01-17T21:55:57.491103",
     "status": "completed"
    },
    "tags": []
   },
   "source": [
    "## Latest stock values for analysis\n",
    "\n",
    "* We are using values from IBEX ticker values (Spanish stock values) every Friday - Closing\n",
    "* These are the lates values we used for our analysis."
   ]
  },
  {
   "cell_type": "code",
   "execution_count": 2,
   "id": "8d7faf28-a70b-4369-af26-7418593fc163",
   "metadata": {
    "execution": {
     "iopub.execute_input": "2025-01-17T21:55:57.509114Z",
     "iopub.status.busy": "2025-01-17T21:55:57.509114Z",
     "iopub.status.idle": "2025-01-17T21:55:57.917920Z",
     "shell.execute_reply": "2025-01-17T21:55:57.916922Z"
    },
    "papermill": {
     "duration": 0.418111,
     "end_time": "2025-01-17T21:55:57.919914",
     "exception": false,
     "start_time": "2025-01-17T21:55:57.501803",
     "status": "completed"
    },
    "tags": []
   },
   "outputs": [
    {
     "data": {
      "text/html": [
       "<div>\n",
       "<style scoped>\n",
       "    .dataframe tbody tr th:only-of-type {\n",
       "        vertical-align: middle;\n",
       "    }\n",
       "\n",
       "    .dataframe tbody tr th {\n",
       "        vertical-align: top;\n",
       "    }\n",
       "\n",
       "    .dataframe thead th {\n",
       "        text-align: right;\n",
       "    }\n",
       "</style>\n",
       "<table border=\"1\" class=\"dataframe\">\n",
       "  <thead>\n",
       "    <tr style=\"text-align: right;\">\n",
       "      <th></th>\n",
       "      <th>Close</th>\n",
       "    </tr>\n",
       "    <tr>\n",
       "      <th>Date</th>\n",
       "      <th></th>\n",
       "    </tr>\n",
       "  </thead>\n",
       "  <tbody>\n",
       "    <tr>\n",
       "      <th>2024-12-20</th>\n",
       "      <td>11467.3</td>\n",
       "    </tr>\n",
       "    <tr>\n",
       "      <th>2024-12-27</th>\n",
       "      <td>11531.6</td>\n",
       "    </tr>\n",
       "    <tr>\n",
       "      <th>2025-01-03</th>\n",
       "      <td>11651.6</td>\n",
       "    </tr>\n",
       "    <tr>\n",
       "      <th>2025-01-10</th>\n",
       "      <td>11720.9</td>\n",
       "    </tr>\n",
       "    <tr>\n",
       "      <th>2025-01-17</th>\n",
       "      <td>11916.3</td>\n",
       "    </tr>\n",
       "  </tbody>\n",
       "</table>\n",
       "</div>"
      ],
      "text/plain": [
       "              Close\n",
       "Date               \n",
       "2024-12-20  11467.3\n",
       "2024-12-27  11531.6\n",
       "2025-01-03  11651.6\n",
       "2025-01-10  11720.9\n",
       "2025-01-17  11916.3"
      ]
     },
     "execution_count": 2,
     "metadata": {},
     "output_type": "execute_result"
    }
   ],
   "source": [
    "plot_sample_data(path='docs/modelled_fitted_data.csv', column='Close')"
   ]
  },
  {
   "cell_type": "markdown",
   "id": "091ebff2-b2a5-442b-a52b-7ac25cf8fa8f",
   "metadata": {
    "papermill": {
     "duration": 0.003106,
     "end_time": "2025-01-17T21:55:57.926012",
     "exception": false,
     "start_time": "2025-01-17T21:55:57.922906",
     "status": "completed"
    },
    "tags": []
   },
   "source": [
    "## Test over last 8 weeks\n",
    "\n",
    "1. We keep data from last 8 weeks 'unseen' by our arima model. <br><br>\n",
    "2. This means that the model doesn't know the last 8 values. The hypothetical present of our model is 8 weeks in the past. <br><br>\n",
    "3. In that hypothetical present, if we could see the future we would see the last 8 weeks."
   ]
  },
  {
   "cell_type": "code",
   "execution_count": 3,
   "id": "866fce07-59b4-4a44-a614-48acdafd8b76",
   "metadata": {
    "execution": {
     "iopub.execute_input": "2025-01-17T21:55:57.932723Z",
     "iopub.status.busy": "2025-01-17T21:55:57.932723Z",
     "iopub.status.idle": "2025-01-17T21:55:58.291009Z",
     "shell.execute_reply": "2025-01-17T21:55:58.289945Z"
    },
    "papermill": {
     "duration": 0.364275,
     "end_time": "2025-01-17T21:55:58.292514",
     "exception": false,
     "start_time": "2025-01-17T21:55:57.928239",
     "status": "completed"
    },
    "tags": []
   },
   "outputs": [
    {
     "data": {
      "text/html": [
       "<div>\n",
       "<style scoped>\n",
       "    .dataframe tbody tr th:only-of-type {\n",
       "        vertical-align: middle;\n",
       "    }\n",
       "\n",
       "    .dataframe tbody tr th {\n",
       "        vertical-align: top;\n",
       "    }\n",
       "\n",
       "    .dataframe thead th {\n",
       "        text-align: right;\n",
       "    }\n",
       "</style>\n",
       "<table border=\"1\" class=\"dataframe\">\n",
       "  <thead>\n",
       "    <tr style=\"text-align: right;\">\n",
       "      <th>Date</th>\n",
       "      <th>2024-10-04</th>\n",
       "      <th>2024-10-11</th>\n",
       "      <th>2024-10-18</th>\n",
       "      <th>2024-10-25</th>\n",
       "      <th>2024-11-01</th>\n",
       "      <th>2024-11-08</th>\n",
       "      <th>2024-11-15</th>\n",
       "      <th>2024-11-22</th>\n",
       "      <th>2024-11-29</th>\n",
       "      <th>2024-12-06</th>\n",
       "      <th>2024-12-13</th>\n",
       "      <th>2024-12-20</th>\n",
       "      <th>2024-12-27</th>\n",
       "      <th>2025-01-03</th>\n",
       "      <th>2025-01-10</th>\n",
       "      <th>2025-01-17</th>\n",
       "    </tr>\n",
       "  </thead>\n",
       "  <tbody>\n",
       "    <tr>\n",
       "      <th>if we knew the future</th>\n",
       "      <td>11659.2</td>\n",
       "      <td>11720.0</td>\n",
       "      <td>11925.2</td>\n",
       "      <td>11812.5</td>\n",
       "      <td>11843.0</td>\n",
       "      <td>11551.6</td>\n",
       "      <td>11635.9</td>\n",
       "      <td>11656.6</td>\n",
       "      <td>11641.3</td>\n",
       "      <td>12072.0</td>\n",
       "      <td>11752.1</td>\n",
       "      <td>11467.3</td>\n",
       "      <td>11531.6</td>\n",
       "      <td>11651.6</td>\n",
       "      <td>11720.9</td>\n",
       "      <td>11916.3</td>\n",
       "    </tr>\n",
       "    <tr>\n",
       "      <th>hypothetical present</th>\n",
       "      <td>11659.2</td>\n",
       "      <td>11720.0</td>\n",
       "      <td>11925.2</td>\n",
       "      <td>11812.5</td>\n",
       "      <td>11843.0</td>\n",
       "      <td>11551.6</td>\n",
       "      <td>11635.9</td>\n",
       "      <td>11656.6</td>\n",
       "      <td>?</td>\n",
       "      <td>?</td>\n",
       "      <td>?</td>\n",
       "      <td>?</td>\n",
       "      <td>?</td>\n",
       "      <td>?</td>\n",
       "      <td>?</td>\n",
       "      <td>?</td>\n",
       "    </tr>\n",
       "  </tbody>\n",
       "</table>\n",
       "</div>"
      ],
      "text/plain": [
       "Date                  2024-10-04 2024-10-11 2024-10-18 2024-10-25 2024-11-01  \\\n",
       "if we knew the future    11659.2    11720.0    11925.2    11812.5    11843.0   \n",
       "hypothetical present     11659.2    11720.0    11925.2    11812.5    11843.0   \n",
       "\n",
       "Date                  2024-11-08 2024-11-15 2024-11-22 2024-11-29 2024-12-06  \\\n",
       "if we knew the future    11551.6    11635.9    11656.6    11641.3    12072.0   \n",
       "hypothetical present     11551.6    11635.9    11656.6          ?          ?   \n",
       "\n",
       "Date                  2024-12-13 2024-12-20 2024-12-27 2025-01-03 2025-01-10  \\\n",
       "if we knew the future    11752.1    11467.3    11531.6    11651.6    11720.9   \n",
       "hypothetical present           ?          ?          ?          ?          ?   \n",
       "\n",
       "Date                  2025-01-17  \n",
       "if we knew the future    11916.3  \n",
       "hypothetical present           ?  "
      ]
     },
     "execution_count": 3,
     "metadata": {},
     "output_type": "execute_result"
    }
   ],
   "source": [
    "table_horizontal(path='docs/modelled_fitted_data.csv', column='Close', display_weeks=16)"
   ]
  },
  {
   "cell_type": "markdown",
   "id": "8776c2d1-722b-4e14-8b78-4b3f50f45bd4",
   "metadata": {
    "papermill": {
     "duration": 0.003211,
     "end_time": "2025-01-17T21:55:58.299825",
     "exception": false,
     "start_time": "2025-01-17T21:55:58.296614",
     "status": "completed"
    },
    "tags": []
   },
   "source": [
    "## Plot real vales vs model output and confidence intervals\n",
    "\n",
    "This is a plot of the real values (in blue) and the model output (in green) and the confident intervals (in red)"
   ]
  },
  {
   "cell_type": "code",
   "execution_count": 4,
   "id": "c63609df-8e27-41af-a034-5db0f623537e",
   "metadata": {
    "execution": {
     "iopub.execute_input": "2025-01-17T21:55:58.307987Z",
     "iopub.status.busy": "2025-01-17T21:55:58.307987Z",
     "iopub.status.idle": "2025-01-17T21:55:59.198218Z",
     "shell.execute_reply": "2025-01-17T21:55:59.197259Z"
    },
    "papermill": {
     "duration": 0.899091,
     "end_time": "2025-01-17T21:55:59.201586",
     "exception": false,
     "start_time": "2025-01-17T21:55:58.302495",
     "status": "completed"
    },
    "tags": []
   },
   "outputs": [
    {
     "data": {
      "image/png": "[encoded data removed]",
      "text/plain": [
       "<Figure size 1000x500 with 1 Axes>"
      ]
     },
     "metadata": {},
     "output_type": "display_data"
    }
   ],
   "source": [
    "plot_fit_and_forecast(path='docs/modelled_fitted_data.csv', column='Close', model='arima',  display_weeks=16)"
   ]
  },
  {
   "cell_type": "code",
   "execution_count": null,
   "id": "acbb4187-f090-4eab-9326-0523b7056c68",
   "metadata": {
    "papermill": {
     "duration": 0.006103,
     "end_time": "2025-01-17T21:55:59.212976",
     "exception": false,
     "start_time": "2025-01-17T21:55:59.206873",
     "status": "completed"
    },
    "tags": []
   },
   "outputs": [],
   "source": []
  }
 ],
 "metadata": {
  "kernelspec": {
   "display_name": "Python 3 (ipykernel)",
   "language": "python",
   "name": "python3"
  },
  "language_info": {
   "codemirror_mode": {
    "name": "ipython",
    "version": 3
   },
   "file_extension": ".py",
   "mimetype": "text/x-python",
   "name": "python",
   "nbconvert_exporter": "python",
   "pygments_lexer": "ipython3",
   "version": "3.9.13"
  },
  "papermill": {
   "default_parameters": {},
   "duration": 17.622548,
   "end_time": "2025-01-17T21:55:59.656735",
   "environment_variables": {},
   "exception": null,
   "input_path": "quarto_files\\arima_model.ipynb",
   "output_path": "docs\\arima_model.ipynb",
   "parameters": {},
   "start_time": "2025-01-17T21:55:42.034187",
   "version": "2.6.0"
  }
 },
 "nbformat": 4,
 "nbformat_minor": 5
}