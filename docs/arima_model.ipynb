{
 "cells": [
  {
   "cell_type": "raw",
   "id": "3d9b29bc-73ca-4f90-ac9e-6099a7b7eb96",
   "metadata": {
    "papermill": {
     "duration": 0.013961,
     "end_time": "2025-02-14T20:24:56.816359",
     "exception": false,
     "start_time": "2025-02-14T20:24:56.802398",
     "status": "completed"
    },
    "tags": []
   },
   "source": [
    "---\n",
    "title: \"Arima Model\"\n",
    "format: \n",
    "  html:\n",
    "    code-fold: true\n",
    "jupyter: python3\n",
    "---"
   ]
  },
  {
   "cell_type": "code",
   "execution_count": 1,
   "id": "931c85e1-bd18-45aa-b81c-a432a0a680d1",
   "metadata": {
    "execution": {
     "iopub.execute_input": "2025-02-14T20:24:56.831175Z",
     "iopub.status.busy": "2025-02-14T20:24:56.830166Z",
     "iopub.status.idle": "2025-02-14T20:24:58.208453Z",
     "shell.execute_reply": "2025-02-14T20:24:58.206168Z"
    },
    "papermill": {
     "duration": 1.386109,
     "end_time": "2025-02-14T20:24:58.210807",
     "exception": false,
     "start_time": "2025-02-14T20:24:56.824698",
     "status": "completed"
    },
    "tags": []
   },
   "outputs": [],
   "source": [
    "import pandas as pd\n",
    "import matplotlib.pyplot as plt\n",
    "from settings.display_data import plot_fit_and_forecast, table_horizontal, plot_sample_data"
   ]
  },
  {
   "cell_type": "markdown",
   "id": "5d15d346-e189-4640-af65-bce397968026",
   "metadata": {
    "papermill": {
     "duration": 0.002083,
     "end_time": "2025-02-14T20:24:58.214980",
     "exception": false,
     "start_time": "2025-02-14T20:24:58.212897",
     "status": "completed"
    },
    "tags": []
   },
   "source": [
    "## Latest stock values for analysis\n",
    "\n",
    "* We are using values from IBEX ticker values (Spanish stock values) every Friday - Closing\n",
    "* These are the lates values we used for our analysis."
   ]
  },
  {
   "cell_type": "code",
   "execution_count": 2,
   "id": "8d7faf28-a70b-4369-af26-7418593fc163",
   "metadata": {
    "execution": {
     "iopub.execute_input": "2025-02-14T20:24:58.219144Z",
     "iopub.status.busy": "2025-02-14T20:24:58.219144Z",
     "iopub.status.idle": "2025-02-14T20:24:58.441210Z",
     "shell.execute_reply": "2025-02-14T20:24:58.441210Z"
    },
    "papermill": {
     "duration": 0.227465,
     "end_time": "2025-02-14T20:24:58.443487",
     "exception": false,
     "start_time": "2025-02-14T20:24:58.216022",
     "status": "completed"
    },
    "tags": []
   },
   "outputs": [
    {
     "data": {
      "text/html": [
       "<div>\n",
       "<style scoped>\n",
       "    .dataframe tbody tr th:only-of-type {\n",
       "        vertical-align: middle;\n",
       "    }\n",
       "\n",
       "    .dataframe tbody tr th {\n",
       "        vertical-align: top;\n",
       "    }\n",
       "\n",
       "    .dataframe thead th {\n",
       "        text-align: right;\n",
       "    }\n",
       "</style>\n",
       "<table border=\"1\" class=\"dataframe\">\n",
       "  <thead>\n",
       "    <tr style=\"text-align: right;\">\n",
       "      <th></th>\n",
       "      <th>Close</th>\n",
       "    </tr>\n",
       "    <tr>\n",
       "      <th>Date</th>\n",
       "      <th></th>\n",
       "    </tr>\n",
       "  </thead>\n",
       "  <tbody>\n",
       "    <tr>\n",
       "      <th>2025-01-17</th>\n",
       "      <td>11916.3</td>\n",
       "    </tr>\n",
       "    <tr>\n",
       "      <th>2025-01-24</th>\n",
       "      <td>11982.6</td>\n",
       "    </tr>\n",
       "    <tr>\n",
       "      <th>2025-01-31</th>\n",
       "      <td>12368.9</td>\n",
       "    </tr>\n",
       "    <tr>\n",
       "      <th>2025-02-07</th>\n",
       "      <td>12688.9</td>\n",
       "    </tr>\n",
       "    <tr>\n",
       "      <th>2025-02-14</th>\n",
       "      <td>12956.0</td>\n",
       "    </tr>\n",
       "  </tbody>\n",
       "</table>\n",
       "</div>"
      ],
      "text/plain": [
       "              Close\n",
       "Date               \n",
       "2025-01-17  11916.3\n",
       "2025-01-24  11982.6\n",
       "2025-01-31  12368.9\n",
       "2025-02-07  12688.9\n",
       "2025-02-14  12956.0"
      ]
     },
     "execution_count": 2,
     "metadata": {},
     "output_type": "execute_result"
    }
   ],
   "source": [
    "plot_sample_data(path='docs/modelled_fitted_data.csv', column='Close')"
   ]
  },
  {
   "cell_type": "markdown",
   "id": "091ebff2-b2a5-442b-a52b-7ac25cf8fa8f",
   "metadata": {
    "papermill": {
     "duration": 0.002076,
     "end_time": "2025-02-14T20:24:58.446600",
     "exception": false,
     "start_time": "2025-02-14T20:24:58.444524",
     "status": "completed"
    },
    "tags": []
   },
   "source": [
    "## Test over last 8 weeks\n",
    "\n",
    "1. We keep data from last 8 weeks 'unseen' by our arima model. <br><br>\n",
    "2. This means that the model doesn't know the last 8 values. The hypothetical present of our model is 8 weeks in the past. <br><br>\n",
    "3. In that hypothetical present, if we could see the future we would see the last 8 weeks."
   ]
  },
  {
   "cell_type": "code",
   "execution_count": 3,
   "id": "866fce07-59b4-4a44-a614-48acdafd8b76",
   "metadata": {
    "execution": {
     "iopub.execute_input": "2025-02-14T20:24:58.450851Z",
     "iopub.status.busy": "2025-02-14T20:24:58.450851Z",
     "iopub.status.idle": "2025-02-14T20:24:58.678790Z",
     "shell.execute_reply": "2025-02-14T20:24:58.676535Z"
    },
    "papermill": {
     "duration": 0.233153,
     "end_time": "2025-02-14T20:24:58.681923",
     "exception": false,
     "start_time": "2025-02-14T20:24:58.448770",
     "status": "completed"
    },
    "tags": []
   },
   "outputs": [
    {
     "data": {
      "text/html": [
       "<div>\n",
       "<style scoped>\n",
       "    .dataframe tbody tr th:only-of-type {\n",
       "        vertical-align: middle;\n",
       "    }\n",
       "\n",
       "    .dataframe tbody tr th {\n",
       "        vertical-align: top;\n",
       "    }\n",
       "\n",
       "    .dataframe thead th {\n",
       "        text-align: right;\n",
       "    }\n",
       "</style>\n",
       "<table border=\"1\" class=\"dataframe\">\n",
       "  <thead>\n",
       "    <tr style=\"text-align: right;\">\n",
       "      <th>Date</th>\n",
       "      <th>2024-11-01</th>\n",
       "      <th>2024-11-08</th>\n",
       "      <th>2024-11-15</th>\n",
       "      <th>2024-11-22</th>\n",
       "      <th>2024-11-29</th>\n",
       "      <th>2024-12-06</th>\n",
       "      <th>2024-12-13</th>\n",
       "      <th>2024-12-20</th>\n",
       "      <th>2024-12-27</th>\n",
       "      <th>2025-01-03</th>\n",
       "      <th>2025-01-10</th>\n",
       "      <th>2025-01-17</th>\n",
       "      <th>2025-01-24</th>\n",
       "      <th>2025-01-31</th>\n",
       "      <th>2025-02-07</th>\n",
       "      <th>2025-02-14</th>\n",
       "    </tr>\n",
       "  </thead>\n",
       "  <tbody>\n",
       "    <tr>\n",
       "      <th>if we knew the future</th>\n",
       "      <td>11843.0</td>\n",
       "      <td>11551.6</td>\n",
       "      <td>11635.9</td>\n",
       "      <td>11656.6</td>\n",
       "      <td>11641.3</td>\n",
       "      <td>12072.0</td>\n",
       "      <td>11752.1</td>\n",
       "      <td>11467.3</td>\n",
       "      <td>11531.6</td>\n",
       "      <td>11651.6</td>\n",
       "      <td>11720.9</td>\n",
       "      <td>11916.3</td>\n",
       "      <td>11982.6</td>\n",
       "      <td>12368.9</td>\n",
       "      <td>12688.9</td>\n",
       "      <td>12956.0</td>\n",
       "    </tr>\n",
       "    <tr>\n",
       "      <th>hypothetical present</th>\n",
       "      <td>11843.0</td>\n",
       "      <td>11551.6</td>\n",
       "      <td>11635.9</td>\n",
       "      <td>11656.6</td>\n",
       "      <td>11641.3</td>\n",
       "      <td>12072.0</td>\n",
       "      <td>11752.1</td>\n",
       "      <td>11467.3</td>\n",
       "      <td>?</td>\n",
       "      <td>?</td>\n",
       "      <td>?</td>\n",
       "      <td>?</td>\n",
       "      <td>?</td>\n",
       "      <td>?</td>\n",
       "      <td>?</td>\n",
       "      <td>?</td>\n",
       "    </tr>\n",
       "  </tbody>\n",
       "</table>\n",
       "</div>"
      ],
      "text/plain": [
       "Date                  2024-11-01 2024-11-08 2024-11-15 2024-11-22 2024-11-29  \\\n",
       "if we knew the future    11843.0    11551.6    11635.9    11656.6    11641.3   \n",
       "hypothetical present     11843.0    11551.6    11635.9    11656.6    11641.3   \n",
       "\n",
       "Date                  2024-12-06 2024-12-13 2024-12-20 2024-12-27 2025-01-03  \\\n",
       "if we knew the future    12072.0    11752.1    11467.3    11531.6    11651.6   \n",
       "hypothetical present     12072.0    11752.1    11467.3          ?          ?   \n",
       "\n",
       "Date                  2025-01-10 2025-01-17 2025-01-24 2025-01-31 2025-02-07  \\\n",
       "if we knew the future    11720.9    11916.3    11982.6    12368.9    12688.9   \n",
       "hypothetical present           ?          ?          ?          ?          ?   \n",
       "\n",
       "Date                  2025-02-14  \n",
       "if we knew the future    12956.0  \n",
       "hypothetical present           ?  "
      ]
     },
     "execution_count": 3,
     "metadata": {},
     "output_type": "execute_result"
    }
   ],
   "source": [
    "table_horizontal(path='docs/modelled_fitted_data.csv', column='Close', display_weeks=16)"
   ]
  },
  {
   "cell_type": "markdown",
   "id": "8776c2d1-722b-4e14-8b78-4b3f50f45bd4",
   "metadata": {
    "papermill": {
     "duration": 0.003989,
     "end_time": "2025-02-14T20:24:58.690897",
     "exception": false,
     "start_time": "2025-02-14T20:24:58.686908",
     "status": "completed"
    },
    "tags": []
   },
   "source": [
    "## Plot real vales vs model output and confidence intervals\n",
    "\n",
    "This is a plot of the real values (in blue) and the model output (in green) and the confident intervals (in red)"
   ]
  },
  {
   "cell_type": "code",
   "execution_count": 4,
   "id": "c63609df-8e27-41af-a034-5db0f623537e",
   "metadata": {
    "execution": {
     "iopub.execute_input": "2025-02-14T20:24:58.698330Z",
     "iopub.status.busy": "2025-02-14T20:24:58.698330Z",
     "iopub.status.idle": "2025-02-14T20:24:59.148718Z",
     "shell.execute_reply": "2025-02-14T20:24:59.148718Z"
    },
    "papermill": {
     "duration": 0.457144,
     "end_time": "2025-02-14T20:24:59.151033",
     "exception": false,
     "start_time": "2025-02-14T20:24:58.693889",
     "status": "completed"
    },
    "tags": []
   },
   "outputs": [
    {
     "data": {
      "image/png": "[encoded data removed]",
      "text/plain": [
       "<Figure size 1000x500 with 1 Axes>"
      ]
     },
     "metadata": {},
     "output_type": "display_data"
    }
   ],
   "source": [
    "plot_fit_and_forecast(path='docs/modelled_fitted_data.csv', column='Close', model='arima',  display_weeks=16)"
   ]
  },
  {
   "cell_type": "code",
   "execution_count": null,
   "id": "acbb4187-f090-4eab-9326-0523b7056c68",
   "metadata": {
    "papermill": {
     "duration": 0.003158,
     "end_time": "2025-02-14T20:24:59.156234",
     "exception": false,
     "start_time": "2025-02-14T20:24:59.153076",
     "status": "completed"
    },
    "tags": []
   },
   "outputs": [],
   "source": []
  }
 ],
 "metadata": {
  "kernelspec": {
   "display_name": "Python 3 (ipykernel)",
   "language": "python",
   "name": "python3"
  },
  "language_info": {
   "codemirror_mode": {
    "name": "ipython",
    "version": 3
   },
   "file_extension": ".py",
   "mimetype": "text/x-python",
   "name": "python",
   "nbconvert_exporter": "python",
   "pygments_lexer": "ipython3",
   "version": "3.9.13"
  },
  "papermill": {
   "default_parameters": {},
   "duration": 5.10787,
   "end_time": "2025-02-14T20:24:59.390415",
   "environment_variables": {},
   "exception": null,
   "input_path": "quarto_files\\arima_model.ipynb",
   "output_path": "docs\\arima_model.ipynb",
   "parameters": {},
   "start_time": "2025-02-14T20:24:54.282545",
   "version": "2.6.0"
  }
 },
 "nbformat": 4,
 "nbformat_minor": 5
}